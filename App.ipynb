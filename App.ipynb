{
 "cells": [
  {
   "cell_type": "code",
   "execution_count": 1,
   "id": "6bf6a3d1",
   "metadata": {},
   "outputs": [
    {
     "name": "stdout",
     "output_type": "stream",
     "text": [
      "Collecting mediapipe\n",
      "  Downloading mediapipe-0.10.7-cp310-cp310-win_amd64.whl (50.3 MB)\n",
      "     ---------------------------------------- 50.3/50.3 MB 4.2 MB/s eta 0:00:00\n",
      "Collecting opencv-python\n",
      "  Downloading opencv_python-4.8.1.78-cp37-abi3-win_amd64.whl (38.1 MB)\n",
      "     ---------------------------------------- 38.1/38.1 MB 3.3 MB/s eta 0:00:00\n",
      "Collecting protobuf<4,>=3.11\n",
      "  Downloading protobuf-3.20.3-cp310-cp310-win_amd64.whl (904 kB)\n",
      "     -------------------------------------- 904.0/904.0 kB 5.2 MB/s eta 0:00:00\n",
      "Requirement already satisfied: numpy in c:\\users\\muham\\anaconda3\\lib\\site-packages (from mediapipe) (1.23.5)\n",
      "Collecting absl-py\n",
      "  Downloading absl_py-2.0.0-py3-none-any.whl (130 kB)\n",
      "     -------------------------------------- 130.2/130.2 kB 3.9 MB/s eta 0:00:00\n",
      "Collecting flatbuffers>=2.0\n",
      "  Downloading flatbuffers-23.5.26-py2.py3-none-any.whl (26 kB)\n",
      "Collecting sounddevice>=0.4.4\n",
      "  Downloading sounddevice-0.4.6-py3-none-win_amd64.whl (199 kB)\n",
      "     -------------------------------------- 199.7/199.7 kB 5.9 MB/s eta 0:00:00\n",
      "Requirement already satisfied: attrs>=19.1.0 in c:\\users\\muham\\anaconda3\\lib\\site-packages (from mediapipe) (22.1.0)\n",
      "Requirement already satisfied: matplotlib in c:\\users\\muham\\anaconda3\\lib\\site-packages (from mediapipe) (3.7.0)\n",
      "Collecting opencv-contrib-python\n",
      "  Downloading opencv_contrib_python-4.8.1.78-cp37-abi3-win_amd64.whl (44.8 MB)\n",
      "     ---------------------------------------- 44.8/44.8 MB 3.8 MB/s eta 0:00:00\n",
      "Requirement already satisfied: CFFI>=1.0 in c:\\users\\muham\\anaconda3\\lib\\site-packages (from sounddevice>=0.4.4->mediapipe) (1.15.1)\n",
      "Requirement already satisfied: pyparsing>=2.3.1 in c:\\users\\muham\\anaconda3\\lib\\site-packages (from matplotlib->mediapipe) (3.0.9)\n",
      "Requirement already satisfied: packaging>=20.0 in c:\\users\\muham\\anaconda3\\lib\\site-packages (from matplotlib->mediapipe) (22.0)\n",
      "Requirement already satisfied: python-dateutil>=2.7 in c:\\users\\muham\\anaconda3\\lib\\site-packages (from matplotlib->mediapipe) (2.8.2)\n",
      "Requirement already satisfied: kiwisolver>=1.0.1 in c:\\users\\muham\\anaconda3\\lib\\site-packages (from matplotlib->mediapipe) (1.4.4)\n",
      "Requirement already satisfied: pillow>=6.2.0 in c:\\users\\muham\\anaconda3\\lib\\site-packages (from matplotlib->mediapipe) (9.4.0)\n",
      "Requirement already satisfied: cycler>=0.10 in c:\\users\\muham\\anaconda3\\lib\\site-packages (from matplotlib->mediapipe) (0.11.0)\n",
      "Requirement already satisfied: contourpy>=1.0.1 in c:\\users\\muham\\anaconda3\\lib\\site-packages (from matplotlib->mediapipe) (1.0.5)\n",
      "Requirement already satisfied: fonttools>=4.22.0 in c:\\users\\muham\\anaconda3\\lib\\site-packages (from matplotlib->mediapipe) (4.25.0)\n",
      "Requirement already satisfied: pycparser in c:\\users\\muham\\anaconda3\\lib\\site-packages (from CFFI>=1.0->sounddevice>=0.4.4->mediapipe) (2.21)\n",
      "Requirement already satisfied: six>=1.5 in c:\\users\\muham\\anaconda3\\lib\\site-packages (from python-dateutil>=2.7->matplotlib->mediapipe) (1.16.0)\n",
      "Installing collected packages: flatbuffers, protobuf, opencv-python, opencv-contrib-python, absl-py, sounddevice, mediapipe\n",
      "Successfully installed absl-py-2.0.0 flatbuffers-23.5.26 mediapipe-0.10.7 opencv-contrib-python-4.8.1.78 opencv-python-4.8.1.78 protobuf-3.20.3 sounddevice-0.4.6\n"
     ]
    }
   ],
   "source": [
    "#Installing Dependancies\n",
    "!pip install mediapipe opencv-python"
   ]
  },
  {
   "cell_type": "code",
   "execution_count": 2,
   "id": "ac5a5308",
   "metadata": {},
   "outputs": [],
   "source": [
    "#Import Dependancies\n",
    "import cv2\n",
    "import mediapipe as mp\n",
    "import numpy as np\n",
    "mp_drawing = mp.solutions.drawing_utils # Gettign the drawing utils\n",
    "mp_pose = mp.solutions.pose #Getting the pose estimation model"
   ]
  }
 ],
 "metadata": {
  "kernelspec": {
   "display_name": "Python 3 (ipykernel)",
   "language": "python",
   "name": "python3"
  },
  "language_info": {
   "codemirror_mode": {
    "name": "ipython",
    "version": 3
   },
   "file_extension": ".py",
   "mimetype": "text/x-python",
   "name": "python",
   "nbconvert_exporter": "python",
   "pygments_lexer": "ipython3",
   "version": "3.10.9"
  }
 },
 "nbformat": 4,
 "nbformat_minor": 5
}
